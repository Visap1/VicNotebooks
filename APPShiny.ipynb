{
 "cells": [
  {
   "cell_type": "code",
   "execution_count": null,
   "id": "84bbcae1",
   "metadata": {},
   "outputs": [],
   "source": [
    "library(\"tidyverse\")\n",
    "library(\"leaflet\")\n",
    "library(\"readr\")\n",
    "library(\"shiny\")"
   ]
  },
  {
   "cell_type": "code",
   "execution_count": null,
   "id": "a89f8280",
   "metadata": {},
   "outputs": [],
   "source": [
    "df<- read_csv(\"C:/Users/Saidi/longitude.csv\")"
   ]
  },
  {
   "cell_type": "code",
   "execution_count": null,
   "id": "ea0895bc",
   "metadata": {},
   "outputs": [],
   "source": [
    "df"
   ]
  },
  {
   "cell_type": "code",
   "execution_count": null,
   "id": "d5344037",
   "metadata": {},
   "outputs": [],
   "source": [
    "ui <- fluidPage(\n",
    "\n",
    "    # Application title\n",
    "    titlePanel(\"Locations data Amazon/datacamp\"),\n",
    "    tags$hr(),\n",
    "\n",
    "        # Show a plot of the generated distribution\n",
    "        mainPanel(\n",
    "           leafletOutput(\"My_leaflet\")\n",
    "        )\n",
    "    )\n"
   ]
  },
  {
   "cell_type": "code",
   "execution_count": null,
   "id": "a3ee2080",
   "metadata": {},
   "outputs": [],
   "source": [
    " \n",
    "server <- function(input, output) {\n",
    "\n",
    "    output$My_leaflet <- renderLeaflet({\n",
    "      df %>% \n",
    "        leaflet() %>% \n",
    "        addTiles() %>% \n",
    "        addMarkers() %>% \n",
    "        addCircleMarkers(label = ~Name)\n",
    "    })\n",
    "}"
   ]
  },
  {
   "cell_type": "code",
   "execution_count": null,
   "id": "c6c9e4ee",
   "metadata": {},
   "outputs": [
    {
     "name": "stderr",
     "output_type": "stream",
     "text": [
      "\n",
      "Listening on http://127.0.0.1:4482\n",
      "Assuming \"Longitude\" and \"Latitude\" are longitude and latitude, respectively\n",
      "Assuming \"Longitude\" and \"Latitude\" are longitude and latitude, respectively\n",
      "Assuming \"Longitude\" and \"Latitude\" are longitude and latitude, respectively\n",
      "Assuming \"Longitude\" and \"Latitude\" are longitude and latitude, respectively\n"
     ]
    }
   ],
   "source": [
    "# Run the application \n",
    "shinyApp(ui = ui, server = server)"
   ]
  },
  {
   "cell_type": "code",
   "execution_count": null,
   "id": "117dbfc9",
   "metadata": {},
   "outputs": [],
   "source": []
  }
 ],
 "metadata": {
  "kernelspec": {
   "display_name": "R",
   "language": "R",
   "name": "ir"
  },
  "language_info": {
   "codemirror_mode": "r",
   "file_extension": ".r",
   "mimetype": "text/x-r-source",
   "name": "R",
   "pygments_lexer": "r",
   "version": "3.6.1"
  }
 },
 "nbformat": 4,
 "nbformat_minor": 5
}
